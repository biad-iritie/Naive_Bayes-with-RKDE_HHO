{
 "cells": [
  {
   "cell_type": "markdown",
   "metadata": {},
   "source": [
    "# Implementing our novel approach with Naive Bayes\n",
    "\n",
    "> Preprocessing: Clean and preprocess your dataset. This may include handling missing values, encoding categorical variables, and scaling features.\n",
    "\n",
    "## Load dataset"
   ]
  },
  {
   "cell_type": "code",
   "execution_count": 194,
   "metadata": {},
   "outputs": [
    {
     "name": "stdout",
     "output_type": "stream",
     "text": [
      "/Users/biad/Desktop/THESIS/Tests/RKDE_HHO/libs/../data/banana/banana\n",
      "Loaded banana data: 5300 samples, 2 dimensions, 2 labels\n",
      "classes = {1.0, -1.0}\n"
     ]
    }
   ],
   "source": [
    "from libs import data\n",
    "from libs import kde_lib\n",
    "import numpy as np\n",
    "import pandas as pd\n",
    "from sklearn.naive_bayes import GaussianNB\n",
    "from sklearn.metrics import accuracy_score\n",
    "from sklearn.model_selection import train_test_split\n",
    "from libs.exp_lib import Density_model\n",
    "from sklearn.metrics import accuracy_score\n",
    "from sklearn.base import BaseEstimator, ClassifierMixin\n",
    "\n",
    "\n",
    "X0, y0 = data.load_data(\"banana\")\n",
    "\n",
    "X_train, X_test, y_train, y_test = train_test_split(X0, y0, test_size=0.3, random_state=42)"
   ]
  },
  {
   "cell_type": "code",
   "execution_count": 195,
   "metadata": {},
   "outputs": [
    {
     "data": {
      "text/plain": [
       "\" # Get the dimension of our data\\ndim = X_train.ndim\\n\\n# Calculate the number of classes and features\\nclasses = np.unique(y_train)\\nn_features = X_train.shape[1]\\n\\n# Initialize robust densities\\nrobust_densities = np.zeros((len(X_train), dim))\\n\\nprint(robust_densities.shape)\\nkernel = 'gaussian'\\n#h = .5 \""
      ]
     },
     "execution_count": 195,
     "metadata": {},
     "output_type": "execute_result"
    }
   ],
   "source": [
    "\"\"\" # Get the dimension of our data\n",
    "dim = X_train.ndim\n",
    "\n",
    "# Calculate the number of classes and features\n",
    "classes = np.unique(y_train)\n",
    "n_features = X_train.shape[1]\n",
    "\n",
    "# Initialize robust densities\n",
    "robust_densities = np.zeros((len(X_train), dim))\n",
    "\n",
    "print(robust_densities.shape)\n",
    "kernel = 'gaussian'\n",
    "#h = .5 \"\"\"\n"
   ]
  },
  {
   "cell_type": "markdown",
   "metadata": {},
   "source": [
    "## Step2 - step3 : Robust Kernel Density Estimation (RKDE) & Bandwidth Selection using HHO:\n",
    "\n",
    "- Implement the RKDE algorithm with IRLS and Robust M-estimation (Hampel function) for each class.\n",
    "- Calculate robust densities for each class based on the RKDE algorithm.\n"
   ]
  },
  {
   "cell_type": "code",
   "execution_count": 196,
   "metadata": {},
   "outputs": [
    {
     "data": {
      "text/plain": [
       "' for class_label in classes:\\n    # GET for each class\\n    class_indices = np.where(y_train==class_label)[0]\\n    class_X = X_train[class_indices]\\n    h = kde_lib.hho_bandwith_selection(class_X,class_X)\\n    #h = .5\\n    # Get for each feature\\n    rkde_feature =[]\\n    for d in range(dim):\\n        X = class_X[:,d] \\n        X = X[:,np.newaxis]\\n        #print(X.shape)\\n        model = Density_model(\"rkde\", \"banana\", 0,kernel,h)\\n        model.fit(X,X,grid=None)\\n        rkde = model.density\\n        \\n        robust_densities[class_indices,d] = rkde[:,0] '"
      ]
     },
     "execution_count": 196,
     "metadata": {},
     "output_type": "execute_result"
    }
   ],
   "source": [
    "\n",
    "\"\"\" for class_label in classes:\n",
    "    # GET for each class\n",
    "    class_indices = np.where(y_train==class_label)[0]\n",
    "    class_X = X_train[class_indices]\n",
    "    h = kde_lib.hho_bandwith_selection(class_X,class_X)\n",
    "    #h = .5\n",
    "    # Get for each feature\n",
    "    rkde_feature =[]\n",
    "    for d in range(dim):\n",
    "        X = class_X[:,d] \n",
    "        X = X[:,np.newaxis]\n",
    "        #print(X.shape)\n",
    "        model = Density_model(\"rkde\", \"banana\", 0,kernel,h)\n",
    "        model.fit(X,X,grid=None)\n",
    "        rkde = model.density\n",
    "        \n",
    "        robust_densities[class_indices,d] = rkde[:,0] \"\"\"\n",
    "\n",
    "    \n"
   ]
  },
  {
   "cell_type": "code",
   "execution_count": 197,
   "metadata": {},
   "outputs": [
    {
     "name": "stdout",
     "output_type": "stream",
     "text": [
      "[[0. 0.]\n",
      " [0. 0.]\n",
      " [0. 0.]\n",
      " [0. 0.]\n",
      " [0. 0.]\n",
      " [0. 0.]\n",
      " [0. 0.]\n",
      " [0. 0.]\n",
      " [0. 0.]\n",
      " [0. 0.]]\n"
     ]
    }
   ],
   "source": [
    "print(robust_densities[:10])"
   ]
  },
  {
   "cell_type": "code",
   "execution_count": 198,
   "metadata": {},
   "outputs": [
    {
     "name": "stdout",
     "output_type": "stream",
     "text": [
      "(3710, 2)\n"
     ]
    }
   ],
   "source": [
    "print(robust_densities.shape)"
   ]
  },
  {
   "cell_type": "markdown",
   "metadata": {},
   "source": [
    "## Step4: Incorporating RKDE into Naive Bayes:\n",
    "\n",
    "> - Modify Naive Bayes classifier to use the RKDE densities instead of traditional Gaussian densities.\n",
    "> - For prediction, calculate the likelihood using the robust densities obtained from RKDE."
   ]
  },
  {
   "cell_type": "code",
   "execution_count": 199,
   "metadata": {},
   "outputs": [],
   "source": [
    "class RobustNaiveBayes(BaseEstimator, ClassifierMixin):\n",
    "\n",
    "    def __init__(self) -> None:\n",
    "        self.class_priors = None\n",
    "        self.robust_densities = None\n",
    "        self.kernel = 'gaussian'\n",
    "\n",
    "    \n",
    "    def fit(self, X, y):\n",
    "        \"\"\"\n",
    "        Fit the robust Naive Bayes model with RKDE densities.\n",
    "\n",
    "        Parameters:\n",
    "        X (array-like): Training data features.\n",
    "        y (array-like): Training data labels.\n",
    "        \"\"\"\n",
    "        n_samples, n_features = X.shape\n",
    "        self.classes = np.unique(y)\n",
    "        n_classes = len(self.classes)\n",
    "\n",
    "        # Calculate class priors\n",
    "        self.class_priors = np.array([np.mean(y==c) for c in self.classes])\n",
    "\n",
    "        # Initialize robust densities\n",
    "        robust_densities = np.zeros((n_samples, n_features))\n",
    "\n",
    "        for class_label in self.classes :\n",
    "            # GET for each class\n",
    "            class_indices = np.where(y==class_label)[0]\n",
    "            class_data = X[class_indices]\n",
    "            #bandwidth = kde_lib.hho_bandwith_selection(class_data,class_data)\n",
    "            bandwidth = .5\n",
    "            # Get for each feature\n",
    "            for feature in range(n_features):\n",
    "                feature_data = class_data[:,feature]\n",
    "                feature_data = feature_data[:,np.newaxis]\n",
    "                model = Density_model(\"rkde\",\"banana\",0,self.kernel,bandwidth)\n",
    "                model.fit(feature_data, feature_data, grid=None)\n",
    "                rkde = model.density\n",
    "\n",
    "                robust_densities[class_indices,feature] = rkde[:,0]\n",
    "        self.robust_densities = robust_densities\n",
    "\n",
    "        \n",
    "\n",
    "    def predict(self, X):\n",
    "        \"\"\"\n",
    "        Predict class labels and RKDE likelihoods for input data.\n",
    "\n",
    "        Parameters:\n",
    "        X (array-like): Input data features.\n",
    "\n",
    "        Returns:\n",
    "        y_pred (array-like): Predicted class labels.\n",
    "        rkde_likelihoods (array-like): RKDE likelihoods for each class.\n",
    "        \"\"\"\n",
    "        pass"
   ]
  },
  {
   "cell_type": "code",
   "execution_count": 200,
   "metadata": {},
   "outputs": [
    {
     "name": "stdout",
     "output_type": "stream",
     "text": [
      "Stop at 7 iterations\n",
      "Stop at 100 iterations\n",
      "Stop at 7 iterations\n",
      "Stop at 100 iterations\n",
      "Stop at 6 iterations\n",
      "Stop at 100 iterations\n",
      "Stop at 7 iterations\n",
      "Stop at 100 iterations\n"
     ]
    }
   ],
   "source": [
    "# Create and fit the RobustNaiveBayes classifier\n",
    "classifier = RobustNaiveBayes()\n",
    "classifier.fit(X_train, y_train)"
   ]
  },
  {
   "cell_type": "code",
   "execution_count": 204,
   "metadata": {},
   "outputs": [
    {
     "name": "stdout",
     "output_type": "stream",
     "text": [
      "(3710, 2)\n",
      "(3710, 2)\n"
     ]
    }
   ],
   "source": [
    "# Check the shape of our train data and the robust densities\n",
    "print(X_train.shape)\n",
    "print(classifier.robust_densities.shape)"
   ]
  },
  {
   "cell_type": "markdown",
   "metadata": {},
   "source": []
  }
 ],
 "metadata": {
  "kernelspec": {
   "display_name": "Python 3.9.13 ('data_science')",
   "language": "python",
   "name": "python3"
  },
  "language_info": {
   "codemirror_mode": {
    "name": "ipython",
    "version": 3
   },
   "file_extension": ".py",
   "mimetype": "text/x-python",
   "name": "python",
   "nbconvert_exporter": "python",
   "pygments_lexer": "ipython3",
   "version": "3.9.13"
  },
  "orig_nbformat": 4,
  "vscode": {
   "interpreter": {
    "hash": "643985f69f89cfee59ccb9ceb257d9cb58c13bdd97c74d508c0964730dccc282"
   }
  }
 },
 "nbformat": 4,
 "nbformat_minor": 2
}
