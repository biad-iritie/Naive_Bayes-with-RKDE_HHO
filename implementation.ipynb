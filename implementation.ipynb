{
 "cells": [
  {
   "cell_type": "markdown",
   "metadata": {},
   "source": [
    "# Implementing our novel approach with Naive Bayes\n",
    "\n",
    "> Preprocessing: Clean and preprocess your dataset. This may include handling missing values, encoding categorical variables, and scaling features.\n",
    "\n",
    "## Load dataset"
   ]
  },
  {
   "cell_type": "code",
   "execution_count": 164,
   "metadata": {},
   "outputs": [
    {
     "name": "stdout",
     "output_type": "stream",
     "text": [
      "/Users/biad/Desktop/THESIS/Tests/RKDE_HHO/libs/../data/banana/banana\n",
      "Loaded banana data: 5300 samples, 2 dimensions, 2 labels\n",
      "classes = {1.0, -1.0}\n"
     ]
    }
   ],
   "source": [
    "from libs import data\n",
    "from libs import kde_lib\n",
    "import numpy as np\n",
    "import pandas as pd\n",
    "from sklearn.naive_bayes import GaussianNB\n",
    "from sklearn.metrics import accuracy_score\n",
    "from sklearn.model_selection import train_test_split\n",
    "from libs.exp_lib import Density_model\n",
    "from sklearn.metrics import accuracy_score\n",
    "from sklearn.base import BaseEstimator, ClassifierMixin\n",
    "from scipy.stats import norm\n",
    "\n",
    "\n",
    "X0, y0 = data.load_data(\"banana\")\n",
    "\n",
    "X_train, X_test, y_train, y_test = train_test_split(X0, y0, test_size=0.3, random_state=42)"
   ]
  },
  {
   "cell_type": "code",
   "execution_count": 165,
   "metadata": {},
   "outputs": [
    {
     "data": {
      "text/plain": [
       "\" # Get the dimension of our data\\ndim = X_train.ndim\\n\\n# Calculate the number of classes and features\\nclasses = np.unique(y_train)\\nn_features = X_train.shape[1]\\n\\n# Initialize robust densities\\nrobust_densities = np.zeros((len(X_train), dim))\\n\\nprint(robust_densities.shape)\\nkernel = 'gaussian'\\n#h = .5 \""
      ]
     },
     "execution_count": 165,
     "metadata": {},
     "output_type": "execute_result"
    }
   ],
   "source": [
    "\"\"\" # Get the dimension of our data\n",
    "dim = X_train.ndim\n",
    "\n",
    "# Calculate the number of classes and features\n",
    "classes = np.unique(y_train)\n",
    "n_features = X_train.shape[1]\n",
    "\n",
    "# Initialize robust densities\n",
    "robust_densities = np.zeros((len(X_train), dim))\n",
    "\n",
    "print(robust_densities.shape)\n",
    "kernel = 'gaussian'\n",
    "#h = .5 \"\"\"\n"
   ]
  },
  {
   "cell_type": "markdown",
   "metadata": {},
   "source": [
    "## Step2 - step3 : Robust Kernel Density Estimation (RKDE) & Bandwidth Selection using HHO:\n",
    "\n",
    "- Implement the RKDE algorithm with IRLS and Robust M-estimation (Hampel function) for each class.\n",
    "- Calculate robust densities for each class based on the RKDE algorithm.\n"
   ]
  },
  {
   "cell_type": "code",
   "execution_count": 166,
   "metadata": {},
   "outputs": [
    {
     "data": {
      "text/plain": [
       "' for class_label in classes:\\n    # GET for each class\\n    class_indices = np.where(y_train==class_label)[0]\\n    class_X = X_train[class_indices]\\n    h = kde_lib.hho_bandwith_selection(class_X,class_X)\\n    #h = .5\\n    # Get for each feature\\n    rkde_feature =[]\\n    for d in range(dim):\\n        X = class_X[:,d] \\n        X = X[:,np.newaxis]\\n        #print(X.shape)\\n        model = Density_model(\"rkde\", \"banana\", 0,kernel,h)\\n        model.fit(X,X,grid=None)\\n        rkde = model.density\\n        \\n        robust_densities[class_indices,d] = rkde[:,0] '"
      ]
     },
     "execution_count": 166,
     "metadata": {},
     "output_type": "execute_result"
    }
   ],
   "source": [
    "\n",
    "\"\"\" for class_label in classes:\n",
    "    # GET for each class\n",
    "    class_indices = np.where(y_train==class_label)[0]\n",
    "    class_X = X_train[class_indices]\n",
    "    h = kde_lib.hho_bandwith_selection(class_X,class_X)\n",
    "    #h = .5\n",
    "    # Get for each feature\n",
    "    rkde_feature =[]\n",
    "    for d in range(dim):\n",
    "        X = class_X[:,d] \n",
    "        X = X[:,np.newaxis]\n",
    "        #print(X.shape)\n",
    "        model = Density_model(\"rkde\", \"banana\", 0,kernel,h)\n",
    "        model.fit(X,X,grid=None)\n",
    "        rkde = model.density\n",
    "        \n",
    "        robust_densities[class_indices,d] = rkde[:,0] \"\"\"\n",
    "\n",
    "    \n"
   ]
  },
  {
   "cell_type": "markdown",
   "metadata": {},
   "source": [
    "## Step4: Incorporating RKDE into Naive Bayes:\n",
    "\n",
    "> - Modify Naive Bayes classifier to use the RKDE densities instead of traditional Gaussian densities.\n",
    "> - For prediction, calculate the likelihood using the robust densities obtained from RKDE."
   ]
  },
  {
   "cell_type": "code",
   "execution_count": 189,
   "metadata": {},
   "outputs": [],
   "source": [
    "class RobustNaiveBayes(BaseEstimator, ClassifierMixin):\n",
    "#class RobustNaiveBayes(BaseEstimator, ClassifierMixin):\n",
    "\n",
    "    def __init__(self) -> None:\n",
    "        \"\"\" self.class_priors = None\n",
    "        self.robust_densities = None \"\"\"\n",
    "        self.kernel = 'gaussian'\n",
    "        self.classifiers = {}  # Store GaussianNB classifiers for each class\n",
    "        self.robust_densities = {}  # Store robust densities for each class\n",
    "\n",
    "    \n",
    "    def fit(self, X, y):\n",
    "        \"\"\"\n",
    "        Fit the robust Naive Bayes model with RKDE densities.\n",
    "\n",
    "        Parameters:\n",
    "        X (array-like): Training data features.\n",
    "        y (array-like): Training data labels.\n",
    "        \"\"\"\n",
    "        n_samples, n_features = X.shape\n",
    "        self.classes = np.unique(y)\n",
    "        n_classes = len(self.classes)\n",
    "\n",
    "        # Calculate class priors\n",
    "        #self.class_priors = np.array([np.mean(y==c) for c in self.classes])\n",
    "\n",
    "        # Initialize robust densities\n",
    "        robust_densities = np.zeros((n_samples, n_features))\n",
    "        #robust_densities = np.zeros(n_samples)\n",
    "\n",
    "        for class_label in self.classes :\n",
    "            # GET for each class\n",
    "            class_indices = np.where(y==class_label)[0]\n",
    "            class_data = X[class_indices]\n",
    "\n",
    "            self.classifiers[class_label] = GaussianNB()\n",
    "            self.classifiers[class_label].fit(class_data,y[class_indices])\n",
    "            X_plot = np.linspace(np.min(class_data),np.max(class_data),len(class_data))\n",
    "            #bandwidth = kde_lib.hho_bandwith_selection(class_data,class_data)\n",
    "            bandwidth = .5\n",
    "            model = Density_model(\"rkde\",\"banana\",0,self.kernel,bandwidth)\n",
    "            model.fit(class_data, class_data, grid=None)\n",
    "            rkde = model.density\n",
    "\n",
    "            self.robust_densities[class_label] = rkde[:,0]\n",
    "            \"\"\" # Get for each feature\n",
    "            for feature in range(n_features):\n",
    "                feature_data = class_data[:,feature]\n",
    "                feature_data = feature_data[:,np.newaxis]\n",
    "                X_plot = np.linspace(np.min(feature_data),np.max(feature_data),len(feature_data))\n",
    "                bandwidth = kde_lib.hho_bandwith_selection(feature_data,X_plot.reshape(-1, 1))\n",
    "                X_plot = X_plot[:,np.newaxis]\n",
    "                #print(feature_data.shape)\n",
    "                #X_plot = X_plot[:,np.newaxis]\n",
    "                #print(X_plot.shape)\n",
    "                model = Density_model(\"rkde\",\"banana\",0,self.kernel,bandwidth)\n",
    "                model.fit(feature_data, X_plot, grid=None)\n",
    "                rkde = model.density\n",
    "                print(robust_densities[class_indices,feature])\n",
    "                robust_densities[class_indices,feature] = rkde[:,0]\n",
    "        self.robust_densities = np.array(robust_densities) \"\"\"\n",
    "\n",
    "        \n",
    "\n",
    "    def predict(self, X):\n",
    "        \"\"\"\n",
    "        Predict class labels and RKDE likelihoods for input data.\n",
    "\n",
    "        Parameters:\n",
    "        X (array-like): Input data features.\n",
    "\n",
    "        Returns:\n",
    "        y_pred (array-like): Predicted class labels.\n",
    "        rkde_likelihoods (array-like): RKDE likelihoods for each class.\n",
    "        \"\"\"\n",
    "        n_samples, n_features = X.shape\n",
    "        n_classes = len(self.classes)\n",
    "        predictions = []\n",
    "\n",
    "        for sample in X:\n",
    "            likelihoods = []\n",
    "\n",
    "            for class_label in self.classes:\n",
    "                classifier = self.classifiers[class_label]\n",
    "                robust_density = self.robust_densities[class_label]\n",
    "                # Calculate the likelihood using the robust density and GaussianNB classifier\n",
    "                likelihood = np.exp(classifier._joint_log_likelihood([sample])) * robust_density\n",
    "                likelihoods.append(likelihood)\n",
    "\n",
    "            predicted_class = np.argmax(likelihoods)\n",
    "            predictions.append(predicted_class)\n",
    "        \"\"\" for i in range(n_samples):\n",
    "            sample = X[i]\n",
    "            likelihoods = []\n",
    "\n",
    "            # Calculate likelihood for each class\n",
    "            for class_label in self.classes:\n",
    "                # GET for each class\n",
    "                class_indices = np.where(self.y_train == class_label)[0]\n",
    "                density = self.robust_densities[class_indices]\n",
    "                likelihoods.append(np.prod(norm.pdf(sample, loc=density.mean(), scale=density.std())))\n",
    "            \n",
    "            # Normalize likelihoods using class priors\n",
    "            normalized_likelihoods = likelihoods * self.class_priors\n",
    "\n",
    "            # Predict the class with the highest normalized likelihood\n",
    "            predicted_class = np.argmax(normalized_likelihoods)\n",
    "            predictions.append(self.classes[predicted_class]) \"\"\"\n",
    "        \n",
    "        return np.array(predictions)\n",
    "                \n"
   ]
  },
  {
   "cell_type": "code",
   "execution_count": 190,
   "metadata": {},
   "outputs": [
    {
     "name": "stdout",
     "output_type": "stream",
     "text": [
      "Stop at 4 iterations\n",
      "Stop at 100 iterations\n",
      "Stop at 3 iterations\n",
      "Stop at 100 iterations\n"
     ]
    },
    {
     "data": {
      "text/html": [
       "<style>#sk-container-id-19 {color: black;background-color: white;}#sk-container-id-19 pre{padding: 0;}#sk-container-id-19 div.sk-toggleable {background-color: white;}#sk-container-id-19 label.sk-toggleable__label {cursor: pointer;display: block;width: 100%;margin-bottom: 0;padding: 0.3em;box-sizing: border-box;text-align: center;}#sk-container-id-19 label.sk-toggleable__label-arrow:before {content: \"▸\";float: left;margin-right: 0.25em;color: #696969;}#sk-container-id-19 label.sk-toggleable__label-arrow:hover:before {color: black;}#sk-container-id-19 div.sk-estimator:hover label.sk-toggleable__label-arrow:before {color: black;}#sk-container-id-19 div.sk-toggleable__content {max-height: 0;max-width: 0;overflow: hidden;text-align: left;background-color: #f0f8ff;}#sk-container-id-19 div.sk-toggleable__content pre {margin: 0.2em;color: black;border-radius: 0.25em;background-color: #f0f8ff;}#sk-container-id-19 input.sk-toggleable__control:checked~div.sk-toggleable__content {max-height: 200px;max-width: 100%;overflow: auto;}#sk-container-id-19 input.sk-toggleable__control:checked~label.sk-toggleable__label-arrow:before {content: \"▾\";}#sk-container-id-19 div.sk-estimator input.sk-toggleable__control:checked~label.sk-toggleable__label {background-color: #d4ebff;}#sk-container-id-19 div.sk-label input.sk-toggleable__control:checked~label.sk-toggleable__label {background-color: #d4ebff;}#sk-container-id-19 input.sk-hidden--visually {border: 0;clip: rect(1px 1px 1px 1px);clip: rect(1px, 1px, 1px, 1px);height: 1px;margin: -1px;overflow: hidden;padding: 0;position: absolute;width: 1px;}#sk-container-id-19 div.sk-estimator {font-family: monospace;background-color: #f0f8ff;border: 1px dotted black;border-radius: 0.25em;box-sizing: border-box;margin-bottom: 0.5em;}#sk-container-id-19 div.sk-estimator:hover {background-color: #d4ebff;}#sk-container-id-19 div.sk-parallel-item::after {content: \"\";width: 100%;border-bottom: 1px solid gray;flex-grow: 1;}#sk-container-id-19 div.sk-label:hover label.sk-toggleable__label {background-color: #d4ebff;}#sk-container-id-19 div.sk-serial::before {content: \"\";position: absolute;border-left: 1px solid gray;box-sizing: border-box;top: 0;bottom: 0;left: 50%;z-index: 0;}#sk-container-id-19 div.sk-serial {display: flex;flex-direction: column;align-items: center;background-color: white;padding-right: 0.2em;padding-left: 0.2em;position: relative;}#sk-container-id-19 div.sk-item {position: relative;z-index: 1;}#sk-container-id-19 div.sk-parallel {display: flex;align-items: stretch;justify-content: center;background-color: white;position: relative;}#sk-container-id-19 div.sk-item::before, #sk-container-id-19 div.sk-parallel-item::before {content: \"\";position: absolute;border-left: 1px solid gray;box-sizing: border-box;top: 0;bottom: 0;left: 50%;z-index: -1;}#sk-container-id-19 div.sk-parallel-item {display: flex;flex-direction: column;z-index: 1;position: relative;background-color: white;}#sk-container-id-19 div.sk-parallel-item:first-child::after {align-self: flex-end;width: 50%;}#sk-container-id-19 div.sk-parallel-item:last-child::after {align-self: flex-start;width: 50%;}#sk-container-id-19 div.sk-parallel-item:only-child::after {width: 0;}#sk-container-id-19 div.sk-dashed-wrapped {border: 1px dashed gray;margin: 0 0.4em 0.5em 0.4em;box-sizing: border-box;padding-bottom: 0.4em;background-color: white;}#sk-container-id-19 div.sk-label label {font-family: monospace;font-weight: bold;display: inline-block;line-height: 1.2em;}#sk-container-id-19 div.sk-label-container {text-align: center;}#sk-container-id-19 div.sk-container {/* jupyter's `normalize.less` sets `[hidden] { display: none; }` but bootstrap.min.css set `[hidden] { display: none !important; }` so we also need the `!important` here to be able to override the default hidden behavior on the sphinx rendered scikit-learn.org. See: https://github.com/scikit-learn/scikit-learn/issues/21755 */display: inline-block !important;position: relative;}#sk-container-id-19 div.sk-text-repr-fallback {display: none;}</style><div id=\"sk-container-id-19\" class=\"sk-top-container\"><div class=\"sk-text-repr-fallback\"><pre>GaussianNB()</pre><b>In a Jupyter environment, please rerun this cell to show the HTML representation or trust the notebook. <br />On GitHub, the HTML representation is unable to render, please try loading this page with nbviewer.org.</b></div><div class=\"sk-container\" hidden><div class=\"sk-item\"><div class=\"sk-estimator sk-toggleable\"><input class=\"sk-toggleable__control sk-hidden--visually\" id=\"sk-estimator-id-19\" type=\"checkbox\" checked><label for=\"sk-estimator-id-19\" class=\"sk-toggleable__label sk-toggleable__label-arrow\">GaussianNB</label><div class=\"sk-toggleable__content\"><pre>GaussianNB()</pre></div></div></div></div></div>"
      ],
      "text/plain": [
       "GaussianNB()"
      ]
     },
     "execution_count": 190,
     "metadata": {},
     "output_type": "execute_result"
    }
   ],
   "source": [
    "# Create and fit the RobustNaiveBayes classifier\n",
    "classifier = RobustNaiveBayes()\n",
    "classifier.fit(X_train, y_train)\n",
    "\n",
    "normal_NB = GaussianNB()\n",
    "normal_NB.fit(X_train, y_train)"
   ]
  },
  {
   "cell_type": "code",
   "execution_count": 191,
   "metadata": {},
   "outputs": [
    {
     "name": "stdout",
     "output_type": "stream",
     "text": [
      "(3710, 2)\n"
     ]
    }
   ],
   "source": [
    "# Check the shape of our train data and the robust densities\n",
    "print(X_train.shape)\n",
    "#print(classifier.robust_densities.shape)"
   ]
  },
  {
   "cell_type": "code",
   "execution_count": 193,
   "metadata": {},
   "outputs": [],
   "source": [
    "# Make predictions on the test set\n",
    "y_pred = classifier.predict(X_test)\n",
    "print(np.unique(y_pred))\n",
    "\n",
    "normal_NB_pred = normal_NB.predict(X_test)\n",
    "print(np.unique(normal_NB_pred))\n",
    "\n",
    "# Calculate accuracy\n",
    "accuracy = accuracy_score(y_test, y_pred)\n",
    "print(\"Accuracy 1:\", accuracy)\n",
    "\n",
    "accuracy = accuracy_score(y_test, normal_NB_pred)\n",
    "print(\"Accuracy 2:\", accuracy)\n",
    "#0.3471698113207547"
   ]
  }
 ],
 "metadata": {
  "kernelspec": {
   "display_name": "Python 3.9.13 ('data_science')",
   "language": "python",
   "name": "python3"
  },
  "language_info": {
   "codemirror_mode": {
    "name": "ipython",
    "version": 3
   },
   "file_extension": ".py",
   "mimetype": "text/x-python",
   "name": "python",
   "nbconvert_exporter": "python",
   "pygments_lexer": "ipython3",
   "version": "3.9.13"
  },
  "orig_nbformat": 4,
  "vscode": {
   "interpreter": {
    "hash": "643985f69f89cfee59ccb9ceb257d9cb58c13bdd97c74d508c0964730dccc282"
   }
  }
 },
 "nbformat": 4,
 "nbformat_minor": 2
}
